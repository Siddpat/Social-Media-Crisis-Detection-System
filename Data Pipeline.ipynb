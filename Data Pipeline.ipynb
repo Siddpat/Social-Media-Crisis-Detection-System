{
 "cells": [
  {
   "cell_type": "code",
   "execution_count": 2,
   "id": "f2246bc3-aaa3-4541-bba6-7954d50de6ac",
   "metadata": {},
   "outputs": [
    {
     "name": "stdout",
     "output_type": "stream",
     "text": [
      "\u001b[33mDEPRECATION: Loading egg at /home/siddhantp/anaconda3/lib/python3.11/site-packages/ianvs-0.1.0-py3.11.egg is deprecated. pip 25.1 will enforce this behaviour change. A possible replacement is to use pip for package installation. Discussion can be found at https://github.com/pypa/pip/issues/12330\u001b[0m\u001b[33m\n",
      "\u001b[0mCollecting cleantext\n",
      "  Downloading cleantext-1.1.4-py3-none-any.whl.metadata (3.5 kB)\n",
      "Requirement already satisfied: nltk in /home/siddhantp/anaconda3/lib/python3.11/site-packages (from cleantext) (3.8.1)\n",
      "Requirement already satisfied: click in /home/siddhantp/anaconda3/lib/python3.11/site-packages (from nltk->cleantext) (8.1.7)\n",
      "Requirement already satisfied: joblib in /home/siddhantp/anaconda3/lib/python3.11/site-packages (from nltk->cleantext) (1.2.0)\n",
      "Requirement already satisfied: regex>=2021.8.3 in /home/siddhantp/anaconda3/lib/python3.11/site-packages (from nltk->cleantext) (2023.10.3)\n",
      "Requirement already satisfied: tqdm in /home/siddhantp/anaconda3/lib/python3.11/site-packages (from nltk->cleantext) (4.67.1)\n",
      "Downloading cleantext-1.1.4-py3-none-any.whl (4.9 kB)\n",
      "Installing collected packages: cleantext\n",
      "Successfully installed cleantext-1.1.4\n"
     ]
    }
   ],
   "source": [
    "! pip install cleantext"
   ]
  },
  {
   "cell_type": "code",
   "execution_count": 3,
   "id": "60e042a6-52ea-496e-990d-d75421fed719",
   "metadata": {},
   "outputs": [
    {
     "name": "stderr",
     "output_type": "stream",
     "text": [
      "[nltk_data] Downloading package stopwords to\n",
      "[nltk_data]     /home/siddhantp/nltk_data...\n",
      "[nltk_data]   Package stopwords is already up-to-date!\n"
     ]
    }
   ],
   "source": [
    "import requests\n",
    "import pandas as pd\n",
    "import json\n",
    "import datetime\n",
    "import re\n",
    "import nltk\n",
    "from nltk.corpus import stopwords\n",
    "nltk.download('stopwords')\n",
    "from cleantext import clean"
   ]
  },
  {
   "cell_type": "code",
   "execution_count": 5,
   "id": "6097e969-8970-482a-9e49-084d515ddfca",
   "metadata": {},
   "outputs": [],
   "source": [
    "mental_health_keywords = [\n",
    "    \"depression\", \"depressed\", \"anxiety\", \"suicidal\", \n",
    "    \"suicide\", \"addiction\", \"substance abuse\", \"overwhelmed\", \n",
    "    \"hopeless\", \"self harm\", \"bipolar\", \"mental health\", \n",
    "    \"therapy\", \"crisis\", \"panic attack\"]"
   ]
  },
  {
   "cell_type": "code",
   "execution_count": 6,
   "id": "eadb67a6-c089-499a-9fcb-958c3992602f",
   "metadata": {},
   "outputs": [],
   "source": [
    "# Using the Reddit API credentials\n",
    "CLIENT_ID = 'xFa6r8x1ww7TGMAz2mWxqw'\n",
    "CLIENT_SECRET = 'tTrSXTuXXsMFEf8h6BEW9ItQCaIcpg'\n",
    "USER_AGENT = 'mental_health_analysis_script/1.0'\n",
    "\n",
    "# Authenticating with Reddit API\n",
    "auth = requests.auth.HTTPBasicAuth(CLIENT_ID, CLIENT_SECRET)\n",
    "data = {\n",
    "    'grant_type': 'password',\n",
    "    'username': 'infinitely_Sid',\n",
    "    'password': '********'\n",
    "}\n",
    "headers = {'User-Agent': USER_AGENT}\n",
    "res = requests.post('https://www.reddit.com/api/v1/access_token', auth=auth, data=data, headers=headers)\n",
    "TOKEN = res.json()['access_token']\n",
    "headers = {**headers, **{'Authorization': f\"bearer {TOKEN}\"}}"
   ]
  },
  {
   "cell_type": "code",
   "execution_count": 7,
   "id": "e5cd9931-7f9f-4a94-99d0-059131b61062",
   "metadata": {},
   "outputs": [],
   "source": [
    "\n",
    "# Function to extract posts by keyword\n",
    "def get_reddit_posts(keyword, limit=100):\n",
    "    posts = []\n",
    "    url = f\"https://oauth.reddit.com/search?q={keyword}&sort=new&limit={limit}\"\n",
    "    response = requests.get(url, headers=headers)\n",
    "    \n",
    "    if response.status_code == 200:\n",
    "        data = response.json()\n",
    "        for post in data['data']['children']:\n",
    "            post_data = post['data']\n",
    "            if any(kw.lower() in post_data['title'].lower() or \n",
    "                   (post_data['selftext'] and kw.lower() in post_data['selftext'].lower()) \n",
    "                   for kw in mental_health_keywords):\n",
    "                posts.append({\n",
    "                    'post_id': post_data['id'],\n",
    "                    'timestamp': datetime.datetime.fromtimestamp(post_data['created_utc']).strftime('%Y-%m-%d %H:%M:%S'),\n",
    "                    'title': post_data['title'],\n",
    "                    'content': post_data['selftext'],\n",
    "                    'subreddit': post_data['subreddit'],\n",
    "                    'upvotes': post_data['ups'],\n",
    "                    'comments': post_data['num_comments'],\n",
    "                    'url': f\"https://www.reddit.com{post_data['permalink']}\"\n",
    "                })\n",
    "    return posts\n"
   ]
  },
  {
   "cell_type": "code",
   "execution_count": 11,
   "id": "dc04cad2-cf12-4cbc-a5b0-c0e6ee05c123",
   "metadata": {},
   "outputs": [
    {
     "name": "stdout",
     "output_type": "stream",
     "text": [
      "Collecting posts for keyword: depression\n",
      "Collecting posts for keyword: depressed\n",
      "Collecting posts for keyword: anxiety\n",
      "Collecting posts for keyword: suicidal\n",
      "Collecting posts for keyword: suicide\n",
      "Collecting posts for keyword: addiction\n",
      "Collecting posts for keyword: substance abuse\n",
      "Collecting posts for keyword: overwhelmed\n",
      "Collecting posts for keyword: hopeless\n",
      "Collecting posts for keyword: self harm\n",
      "Collecting posts for keyword: bipolar\n",
      "Collecting posts for keyword: mental health\n",
      "Collecting posts for keyword: therapy\n",
      "Collecting posts for keyword: crisis\n",
      "Collecting posts for keyword: panic attack\n"
     ]
    }
   ],
   "source": [
    "# Collecting posts for each keyword\n",
    "all_posts = []\n",
    "for keyword in mental_health_keywords:\n",
    "    print(f\"Collecting posts for keyword: {keyword}\")\n",
    "    keyword_posts = get_reddit_posts(keyword)\n",
    "    all_posts.extend(keyword_posts)\n",
    "\n",
    "# Removing duplicates based on post_id\n",
    "unique_posts = {post['post_id']: post for post in all_posts}.values()\n",
    "posts_df = pd.DataFrame(list(unique_posts))\n",
    "\n",
    "# Preprocessing text data\n",
    "def preprocess_text(text):\n",
    "    if not isinstance(text, str) or pd.isna(text) or text.strip() == \"\":\n",
    "        return \"\"\n",
    "    \n",
    "    # comprehensive cleaning\n",
    "    try:\n",
    "        cleaned_text = clean(text,\n",
    "                         extra_spaces=True,\n",
    "                         lowercase=True,\n",
    "                         numbers=True,\n",
    "                         punct=True,\n",
    "                         stopwords=True,\n",
    "                         stp_lang='english')\n",
    "        return cleaned_text\n",
    "    except Exception as e:\n",
    "        # Fallback cleaning if cleantext fails\n",
    "        print(f\"Warning: Cleaning failed for text: {text[:30]}... Error: {str(e)}\")\n",
    "        return \"\" if pd.isna(text) else text.lower().strip()\n",
    "    "
   ]
  },
  {
   "cell_type": "code",
   "execution_count": 12,
   "id": "8975c145-3c63-4503-b9a5-14ecdadddb01",
   "metadata": {},
   "outputs": [
    {
     "name": "stdout",
     "output_type": "stream",
     "text": [
      "Collected 922 unique posts related to mental health\n",
      "Data saved to mental_health_posts_20250323_121040.csv and mental_health_posts_20250323_121040.json\n"
     ]
    }
   ],
   "source": [
    "# preprocessing to title and content\n",
    "posts_df['cleaned_title'] = posts_df['title'].apply(preprocess_text)\n",
    "posts_df['cleaned_content'] = posts_df['content'].apply(preprocess_text)\n",
    "\n",
    "# Saving to CSV and JSON\n",
    "timestamp = datetime.datetime.now().strftime(\"%Y%m%d_%H%M%S\")\n",
    "csv_filename = f\"mental_health_posts_{timestamp}.csv\"\n",
    "json_filename = f\"mental_health_posts_{timestamp}.json\"\n",
    "\n",
    "posts_df.to_csv(csv_filename, index=False)\n",
    "posts_df.to_json(json_filename, orient='records')\n",
    "\n",
    "print(f\"Collected {len(posts_df)} unique posts related to mental health\")\n",
    "print(f\"Data saved to {csv_filename} and {json_filename}\")"
   ]
  }
 ],
 "metadata": {
  "kernelspec": {
   "display_name": "Python 3 (ipykernel)",
   "language": "python",
   "name": "python3"
  },
  "language_info": {
   "codemirror_mode": {
    "name": "ipython",
    "version": 3
   },
   "file_extension": ".py",
   "mimetype": "text/x-python",
   "name": "python",
   "nbconvert_exporter": "python",
   "pygments_lexer": "ipython3",
   "version": "3.11.7"
  }
 },
 "nbformat": 4,
 "nbformat_minor": 5
}
