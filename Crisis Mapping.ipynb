{
 "cells": [
  {
   "cell_type": "code",
   "execution_count": 3,
   "id": "8572c8c2-a3d3-4d63-b3d9-60aba2d64917",
   "metadata": {},
   "outputs": [
    {
     "name": "stdout",
     "output_type": "stream",
     "text": [
      "\u001b[33mDEPRECATION: Loading egg at /home/siddhantp/anaconda3/lib/python3.11/site-packages/ianvs-0.1.0-py3.11.egg is deprecated. pip 25.1 will enforce this behaviour change. A possible replacement is to use pip for package installation. Discussion can be found at https://github.com/pypa/pip/issues/12330\u001b[0m\u001b[33m\n",
      "\u001b[0mRequirement already satisfied: geopy in /home/siddhantp/anaconda3/lib/python3.11/site-packages (2.4.1)\n",
      "Requirement already satisfied: geographiclib<3,>=1.52 in /home/siddhantp/anaconda3/lib/python3.11/site-packages (from geopy) (2.0)\n",
      "\u001b[33mDEPRECATION: Loading egg at /home/siddhantp/anaconda3/lib/python3.11/site-packages/ianvs-0.1.0-py3.11.egg is deprecated. pip 25.1 will enforce this behaviour change. A possible replacement is to use pip for package installation. Discussion can be found at https://github.com/pypa/pip/issues/12330\u001b[0m\u001b[33m\n",
      "\u001b[0mRequirement already satisfied: folium in /home/siddhantp/anaconda3/lib/python3.11/site-packages (0.19.5)\n",
      "Requirement already satisfied: branca>=0.6.0 in /home/siddhantp/anaconda3/lib/python3.11/site-packages (from folium) (0.8.1)\n",
      "Requirement already satisfied: jinja2>=2.9 in /home/siddhantp/anaconda3/lib/python3.11/site-packages (from folium) (3.1.3)\n",
      "Requirement already satisfied: numpy in /home/siddhantp/anaconda3/lib/python3.11/site-packages (from folium) (2.2.4)\n",
      "Requirement already satisfied: requests in /home/siddhantp/anaconda3/lib/python3.11/site-packages (from folium) (2.31.0)\n",
      "Requirement already satisfied: xyzservices in /home/siddhantp/anaconda3/lib/python3.11/site-packages (from folium) (2022.9.0)\n",
      "Requirement already satisfied: MarkupSafe>=2.0 in /home/siddhantp/anaconda3/lib/python3.11/site-packages (from jinja2>=2.9->folium) (2.1.3)\n",
      "Requirement already satisfied: charset-normalizer<4,>=2 in /home/siddhantp/anaconda3/lib/python3.11/site-packages (from requests->folium) (2.0.4)\n",
      "Requirement already satisfied: idna<4,>=2.5 in /home/siddhantp/anaconda3/lib/python3.11/site-packages (from requests->folium) (3.4)\n",
      "Requirement already satisfied: urllib3<3,>=1.21.1 in /home/siddhantp/anaconda3/lib/python3.11/site-packages (from requests->folium) (2.0.7)\n",
      "Requirement already satisfied: certifi>=2017.4.17 in /home/siddhantp/anaconda3/lib/python3.11/site-packages (from requests->folium) (2024.2.2)\n"
     ]
    }
   ],
   "source": [
    "!pip install geopy\n",
    "!pip install folium"
   ]
  },
  {
   "cell_type": "code",
   "execution_count": 4,
   "id": "aa7b2b8f-676c-46d6-9e8e-a90cf280827c",
   "metadata": {},
   "outputs": [],
   "source": [
    "import pandas as pd\n",
    "import re\n",
    "from geopy.geocoders import Nominatim\n",
    "from geopy.exc import GeocoderTimedOut\n",
    "import folium\n",
    "from folium.plugins import HeatMap\n",
    "from collections import Counter\n",
    "\n",
    "# Loading the dataset made in task 2 \n",
    "file_name = 'mental_health_posts_with_classification.csv'\n",
    "data = pd.read_csv(file_name)\n"
   ]
  },
  {
   "cell_type": "code",
   "execution_count": 5,
   "id": "b54110bb-1ba5-497d-b33c-21a0d9e4cdb1",
   "metadata": {},
   "outputs": [],
   "source": [
    "# Initializing geolocator\n",
    "geolocator = Nominatim(user_agent=\"crisis_geo_locator\")\n",
    "\n",
    "def extract_location(text):\n",
    "    if not isinstance(text, str):\n",
    "        return None\n",
    "    \n",
    "    #Applying Simple regex to identify place names (e.g., \"in Austin\")\n",
    "    match = re.search(r\"in ([A-Za-z\\s]+)\", text)\n",
    "    if match:\n",
    "        location = match.group(1).strip()\n",
    "        try:\n",
    "            geo_location = geolocator.geocode(location, timeout=10)\n",
    "            if geo_location:\n",
    "                return (geo_location.latitude, geo_location.longitude)\n",
    "        except GeocoderTimedOut:\n",
    "            return None\n",
    "    return None\n",
    "\n"
   ]
  },
  {
   "cell_type": "code",
   "execution_count": 7,
   "id": "81390f6d-ec08-4b6e-9826-eb90d4aef45f",
   "metadata": {},
   "outputs": [],
   "source": [
    "#location extraction to content and title\n",
    "data['location'] = data.apply(lambda row: extract_location(str(row['content']) + ' ' + str(row['title'])), axis=1)\n",
    "\n",
    "# Filtering rows without location data\n",
    "data_with_location = data.dropna(subset=['location'])\n",
    "\n",
    "# Creating a list of locations for the heatmap\n",
    "locations = data_with_location['location'].tolist()\n",
    "\n",
    "# Creating a map centered on the mean coordinates\n",
    "center_lat = sum(loc[0] for loc in locations) / len(locations)\n",
    "center_lon = sum(loc[1] for loc in locations) / len(locations)\n",
    "crisis_map = folium.Map(location=[center_lat, center_lon], zoom_start=4)\n",
    "\n",
    "# Now, Adding a heatmap layer\n",
    "HeatMap(locations).add_to(crisis_map)\n",
    "\n",
    "# Finally, Saving the map\n",
    "crisis_map.save(\"crisis_heatmap.html\")"
   ]
  },
  {
   "cell_type": "code",
   "execution_count": 8,
   "id": "ba726566-7b12-4a7f-ac55-04f8b19e9e14",
   "metadata": {},
   "outputs": [
    {
     "name": "stdout",
     "output_type": "stream",
     "text": [
      "Top 5 locations with highest crisis discussions:\n",
      "Coordinates: (43.6606617, -79.3827952), Count: 10\n",
      "Coordinates: (43.5459909, -80.24950082538395), Count: 8\n",
      "Coordinates: (35.6145156, -88.4786605), Count: 7\n",
      "Coordinates: (52.4297987, 13.4781392), Count: 5\n",
      "Coordinates: (-1.29430045, 29.917097676787474), Count: 5\n"
     ]
    }
   ],
   "source": [
    "# Count occurrences of each location\n",
    "location_counts = Counter(locations)\n",
    "\n",
    "# top 5 locations with highest crisis discussions\n",
    "top_5_locations = location_counts.most_common(5)\n",
    "\n",
    "print(\"Top 5 locations with highest crisis discussions:\")\n",
    "for location, count in top_5_locations:\n",
    "    print(f\"Coordinates: {location}, Count: {count}\")"
   ]
  },
  {
   "cell_type": "code",
   "execution_count": 9,
   "id": "2e22eb7f-9396-4082-993b-e21e2617af78",
   "metadata": {},
   "outputs": [
    {
     "name": "stdout",
     "output_type": "stream",
     "text": [
      "Heatmap and top locations visualization saved as 'crisis_heatmap_with_top_locations.html'\n"
     ]
    }
   ],
   "source": [
    "# markers for top 5 locations\n",
    "for location, count in top_5_locations:\n",
    "    folium.Marker(\n",
    "        location=location,\n",
    "        popup=f\"Crisis discussions: {count}\",\n",
    "        icon=folium.Icon(color='red', icon='info-sign')\n",
    "    ).add_to(crisis_map)\n",
    "\n",
    "# Saving the updated map with markers for top locations\n",
    "crisis_map.save(\"crisis_heatmap_with_top_locations.html\")\n",
    "\n",
    "print(\"Heatmap and top locations visualization saved as 'crisis_heatmap_with_top_locations.html'\")"
   ]
  }
 ],
 "metadata": {
  "kernelspec": {
   "display_name": "Python 3 (ipykernel)",
   "language": "python",
   "name": "python3"
  },
  "language_info": {
   "codemirror_mode": {
    "name": "ipython",
    "version": 3
   },
   "file_extension": ".py",
   "mimetype": "text/x-python",
   "name": "python",
   "nbconvert_exporter": "python",
   "pygments_lexer": "ipython3",
   "version": "3.11.7"
  }
 },
 "nbformat": 4,
 "nbformat_minor": 5
}
